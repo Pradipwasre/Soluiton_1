{
 "cells": [
  {
   "cell_type": "markdown",
   "id": "72ab8734",
   "metadata": {},
   "source": [
    "First Unique Character in a String\n",
    "\n",
    "Given a string s, find the first non-repeating character in it and return its index. If it does not exist, return -1."
   ]
  },
  {
   "cell_type": "code",
   "execution_count": 2,
   "id": "a43de0d1",
   "metadata": {},
   "outputs": [],
   "source": [
    "def findunique(s):\n",
    "    for i in range(len(s)):\n",
    "        if s[i] not in s[:i] and s[i] not in s[i+1:]:\n",
    "            return i \n",
    "    return -1"
   ]
  },
  {
   "cell_type": "code",
   "execution_count": 3,
   "id": "89090186",
   "metadata": {},
   "outputs": [
    {
     "data": {
      "text/plain": [
       "2"
      ]
     },
     "execution_count": 3,
     "metadata": {},
     "output_type": "execute_result"
    }
   ],
   "source": [
    "s = \"loveleetcode\"\n",
    "findunique(s)"
   ]
  },
  {
   "cell_type": "code",
   "execution_count": null,
   "id": "6ffa2e7f",
   "metadata": {},
   "outputs": [],
   "source": []
  }
 ],
 "metadata": {
  "kernelspec": {
   "display_name": "Python 3 (ipykernel)",
   "language": "python",
   "name": "python3"
  },
  "language_info": {
   "codemirror_mode": {
    "name": "ipython",
    "version": 3
   },
   "file_extension": ".py",
   "mimetype": "text/x-python",
   "name": "python",
   "nbconvert_exporter": "python",
   "pygments_lexer": "ipython3",
   "version": "3.10.8"
  }
 },
 "nbformat": 4,
 "nbformat_minor": 5
}
